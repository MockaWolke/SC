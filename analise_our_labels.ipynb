{
 "cells": [
  {
   "cell_type": "code",
   "execution_count": 9,
   "metadata": {},
   "outputs": [],
   "source": [
    "import numpy as np\n",
    "import matplotlib.pyplot as plt\n",
    "import utils\n",
    "import json\n",
    "import seaborn as sns\n",
    "import pandas as pd\n",
    "\n",
    "labels = utils.get_labels()\n",
    "train_image_ids = utils.get_list_of_image_ids()\n",
    "\n",
    "# found_in_image = {}\n",
    "\n",
    "labels = json.load(open('self_made_labels/labels.json', 'r'))"
   ]
  },
  {
   "cell_type": "code",
   "execution_count": 21,
   "metadata": {},
   "outputs": [
    {
     "data": {
      "text/plain": [
       "Street      429\n",
       "Sidewalk     50\n",
       "unclear      47\n",
       "Name: Class_name, dtype: int64"
      ]
     },
     "execution_count": 21,
     "metadata": {},
     "output_type": "execute_result"
    }
   ],
   "source": [
    "df = pd.DataFrame(labels.keys(),labels.values()).reset_index()\n",
    "\n",
    "df.columns = [\"Class\", \"Image_Id\"]\n",
    "\n",
    "def mapping(x):\n",
    "\n",
    "    if x == 1:\n",
    "        return \"Street\"\n",
    "\n",
    "    if x== 2: \n",
    "        return \"Sidewalk\"\n",
    "    else:\n",
    "\n",
    "        return \"unclear\"\n",
    "df[\"Class_name\"] = df[\"Class\"].apply(mapping)\n",
    "\n",
    "df[\"Class_name\"].value_counts()\n"
   ]
  }
 ],
 "metadata": {
  "kernelspec": {
   "display_name": "Python 3.10.4 ('r')",
   "language": "python",
   "name": "python3"
  },
  "language_info": {
   "codemirror_mode": {
    "name": "ipython",
    "version": 3
   },
   "file_extension": ".py",
   "mimetype": "text/x-python",
   "name": "python",
   "nbconvert_exporter": "python",
   "pygments_lexer": "ipython3",
   "version": "3.10.4"
  },
  "orig_nbformat": 4,
  "vscode": {
   "interpreter": {
    "hash": "2b1fae9b4f84de5a0151293b92063dea66447e44ce8e797ae8cc1ec46d1c2819"
   }
  }
 },
 "nbformat": 4,
 "nbformat_minor": 2
}
